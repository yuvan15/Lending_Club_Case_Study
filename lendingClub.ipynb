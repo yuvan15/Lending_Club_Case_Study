{
 "cells": [
  {
   "cell_type": "code",
   "execution_count": null,
   "id": "e28a2512",
   "metadata": {},
   "outputs": [],
   "source": [
    "import numpy as np\n",
    "import pandas as pd\n",
    "import matplotlib.pyplot as plt\n",
    "import seaborn as sns\n",
    "import warnings\n",
    "warnings.filterwarnings('ignore')\n",
    "pd.set_option('display.max_columns',200)\n",
    "pd.set_option('display.max_rows', 200)"
   ]
  },
  {
   "cell_type": "code",
   "execution_count": null,
   "id": "c6416edf",
   "metadata": {},
   "outputs": [],
   "source": [
    "#readind dataset\n",
    "df=pd.read_csv(\"loan.csv\",low_memory=False)"
   ]
  },
  {
   "cell_type": "code",
   "execution_count": null,
   "id": "2fb21f1e",
   "metadata": {},
   "outputs": [],
   "source": [
    "#viewing dataset\n",
    "df.head(15)"
   ]
  },
  {
   "cell_type": "code",
   "execution_count": null,
   "id": "e21892e3",
   "metadata": {},
   "outputs": [],
   "source": [
    "#shape\n",
    "df.shape"
   ]
  },
  {
   "cell_type": "markdown",
   "id": "6fc75006",
   "metadata": {},
   "source": [
    "### Data Cleansing"
   ]
  },
  {
   "cell_type": "code",
   "execution_count": null,
   "id": "fb23b2f5",
   "metadata": {},
   "outputs": [],
   "source": [
    "#missing or null values in dataset\n",
    "null_count=(df.isnull().sum())\n",
    "null_count"
   ]
  },
  {
   "cell_type": "code",
   "execution_count": null,
   "id": "da9c4a85",
   "metadata": {},
   "outputs": [],
   "source": [
    "# finding null %\n",
    "null_perc=(100*null_count/len(df.index))\n",
    "# rounding value\n",
    "null_perc=round(null_perc,2)\n",
    "null_perc"
   ]
  },
  {
   "cell_type": "code",
   "execution_count": null,
   "id": "2b412554",
   "metadata": {
    "scrolled": true
   },
   "outputs": [],
   "source": [
    "#Printing values having more than 0% misisng values\n",
    "null_perc[null_perc>0]"
   ]
  },
  {
   "cell_type": "code",
   "execution_count": null,
   "id": "b9b8037a",
   "metadata": {},
   "outputs": [],
   "source": [
    "#removing col having >30% null values\n",
    "df.drop(null_perc[null_perc>30].index, axis=1, inplace=True)"
   ]
  },
  {
   "cell_type": "code",
   "execution_count": null,
   "id": "a7c601b4",
   "metadata": {},
   "outputs": [],
   "source": [
    "#viewing unique values \n",
    "df.nunique().sort_values()"
   ]
  },
  {
   "cell_type": "markdown",
   "id": "e1fedd68",
   "metadata": {},
   "source": [
    "we can drop the column values with 1 unique values"
   ]
  },
  {
   "cell_type": "code",
   "execution_count": null,
   "id": "16dafccf",
   "metadata": {},
   "outputs": [],
   "source": [
    "#dropping col with one unique values\n",
    "df.drop(['tax_liens','delinq_amnt','chargeoff_within_12_mths','acc_now_delinq','application_type','policy_code','collections_12_mths_ex_med','initial_list_status','pymnt_plan'], axis=1,inplace=True)"
   ]
  },
  {
   "cell_type": "code",
   "execution_count": null,
   "id": "5e842e21",
   "metadata": {},
   "outputs": [],
   "source": [
    "#printing unique value\n",
    "df.nunique().sort_values(ascending=False)"
   ]
  },
  {
   "cell_type": "code",
   "execution_count": null,
   "id": "d8ed1af8",
   "metadata": {},
   "outputs": [],
   "source": [
    "#taking high unique values \n",
    "df.nunique().sort_values(ascending=False).head(15)"
   ]
  },
  {
   "cell_type": "code",
   "execution_count": null,
   "id": "1a977659",
   "metadata": {},
   "outputs": [],
   "source": [
    "df.dtypes"
   ]
  },
  {
   "cell_type": "markdown",
   "id": "ec5fbb23",
   "metadata": {},
   "source": [
    "Dropping some text values which have text values in data set"
   ]
  },
  {
   "cell_type": "code",
   "execution_count": null,
   "id": "83af2e53",
   "metadata": {},
   "outputs": [],
   "source": [
    "df.drop(['emp_title','title'],axis=1,inplace=True)"
   ]
  },
  {
   "cell_type": "markdown",
   "id": "c4cad451",
   "metadata": {},
   "source": [
    "Dropping url and member id"
   ]
  },
  {
   "cell_type": "code",
   "execution_count": null,
   "id": "aab9c27f",
   "metadata": {},
   "outputs": [],
   "source": [
    "df.drop(['url','member_id'],axis=1,inplace=True)"
   ]
  },
  {
   "cell_type": "markdown",
   "id": "628cc4db",
   "metadata": {},
   "source": [
    "dropping --->out_prncp,out_prncp_inv,out_prncp_inv,total_rec_prncp,total_rec_late_fee,\n",
    "recoveries,collection_recovery_fee,last_credit_pull_d,last_pymnt_d,\n",
    "out_prncp,out_prncp_inv "
   ]
  },
  {
   "cell_type": "code",
   "execution_count": null,
   "id": "572da31f",
   "metadata": {},
   "outputs": [],
   "source": [
    "df.drop(['total_rec_int', 'total_rec_prncp', 'total_rec_late_fee', 'last_credit_pull_d', 'out_prncp',  'out_prncp_inv', 'last_pymnt_d'], axis=1, inplace=True)"
   ]
  },
  {
   "cell_type": "markdown",
   "id": "fe1064f6",
   "metadata": {},
   "source": [
    "since we are only interested in loan dropping recoveries & collection_recovery_fee"
   ]
  },
  {
   "cell_type": "code",
   "execution_count": null,
   "id": "ff31333a",
   "metadata": {},
   "outputs": [],
   "source": [
    "df.drop(['collection_recovery_fee','recoveries'],axis=1,inplace=True)"
   ]
  },
  {
   "cell_type": "code",
   "execution_count": null,
   "id": "ba0be795",
   "metadata": {},
   "outputs": [],
   "source": [
    "#% of null or misisng values\n",
    "null_perc = round(100*(df.isnull().sum()/len(df.index)),2)\n",
    "null_perc[null_perc>0]"
   ]
  },
  {
   "cell_type": "code",
   "execution_count": null,
   "id": "48e9f3b8",
   "metadata": {},
   "outputs": [],
   "source": [
    "#removing null value rows emp_length,revol_util,pub_rec_bankruptcies\n",
    "df.dropna(subset=['emp_length','revol_util','pub_rec_bankruptcies'],inplace=True)"
   ]
  },
  {
   "cell_type": "code",
   "execution_count": null,
   "id": "260a2d22",
   "metadata": {},
   "outputs": [],
   "source": [
    "null_perc = round(100*(df.isnull().sum()/len(df.index)),2)\n",
    "null_perc[null_perc>0]"
   ]
  },
  {
   "cell_type": "code",
   "execution_count": null,
   "id": "1fec3d42",
   "metadata": {},
   "outputs": [],
   "source": [
    "df['emp_length'] = df['emp_length'].str.rstrip('years ')\n",
    "df['emp_length'][df['emp_length'] == '< 1'] = '0.5'\n",
    "df['emp_length'].replace({'10+': '10'}, inplace=True)"
   ]
  },
  {
   "cell_type": "markdown",
   "id": "add0de62",
   "metadata": {},
   "source": [
    "removing current values in loan status bcs w need only fully paid and charged off"
   ]
  },
  {
   "cell_type": "code",
   "execution_count": null,
   "id": "ba96de01",
   "metadata": {},
   "outputs": [],
   "source": [
    "df=df[df.loan_status != 'Current']"
   ]
  },
  {
   "cell_type": "code",
   "execution_count": null,
   "id": "a3937554",
   "metadata": {},
   "outputs": [],
   "source": [
    "#checking unique values from term column\n",
    "df.term.unique()"
   ]
  },
  {
   "cell_type": "code",
   "execution_count": null,
   "id": "1cc6ccb7",
   "metadata": {},
   "outputs": [],
   "source": [
    "df['term'] = df.term.str.strip()\n",
    "df.term.unique()"
   ]
  },
  {
   "cell_type": "code",
   "execution_count": null,
   "id": "920a9083",
   "metadata": {},
   "outputs": [],
   "source": [
    "df.shape"
   ]
  },
  {
   "cell_type": "markdown",
   "id": "02d16cee",
   "metadata": {},
   "source": [
    "### Converting Data Type "
   ]
  },
  {
   "cell_type": "code",
   "execution_count": null,
   "id": "09556764",
   "metadata": {},
   "outputs": [],
   "source": [
    "df.dtypes"
   ]
  },
  {
   "cell_type": "markdown",
   "id": "a7aee847",
   "metadata": {},
   "source": [
    "int_rate and revol_util are having % symbol  lets remove it "
   ]
  },
  {
   "cell_type": "code",
   "execution_count": null,
   "id": "ab683db1",
   "metadata": {},
   "outputs": [],
   "source": [
    "#removing % values\n",
    "#f['int_rate'] = df.int_rate.replace('%','').astype(float)\n",
    "#f['revol_util'] = df.int_rate.replace('%','').astype(float)\n",
    "\n",
    "df['int_rate'] = df.int_rate.replace('%','', regex=True).astype(float)\n",
    "df['revol_util'] = df.int_rate.replace('%','',regex=True).astype(float)"
   ]
  },
  {
   "cell_type": "markdown",
   "id": "afc2dc8e",
   "metadata": {},
   "source": [
    "converting data-type to dates"
   ]
  },
  {
   "cell_type": "code",
   "execution_count": null,
   "id": "dd5b346e",
   "metadata": {},
   "outputs": [],
   "source": [
    "df['issue_d']=pd.to_datetime(df.issue_d,format=\"%b-%y\")\n",
    "df['issue_d'] = df['issue_d'].apply(lambda x: x-pd.DateOffset(years=100) if x.year > 2021 else x)"
   ]
  },
  {
   "cell_type": "code",
   "execution_count": null,
   "id": "aede4637",
   "metadata": {},
   "outputs": [],
   "source": [
    "#df['issue_d'].value_counts().sort_index().plot(kind='bar')\n"
   ]
  },
  {
   "cell_type": "code",
   "execution_count": null,
   "id": "8d5e85b7",
   "metadata": {},
   "outputs": [],
   "source": [
    "df['earliest_cr_line'] = pd.to_datetime(df.earliest_cr_line, format='%b-%y')\n",
    "df['earliest_cr_line'] = df['earliest_cr_line'].apply(lambda x: x-pd.DateOffset(years=100) if x.year > 2020 else x)"
   ]
  },
  {
   "cell_type": "code",
   "execution_count": null,
   "id": "21e81835",
   "metadata": {},
   "outputs": [],
   "source": [
    "#df['earliest_cr_line'].value_counts().sort_index().plot(kind='bar')"
   ]
  },
  {
   "cell_type": "code",
   "execution_count": null,
   "id": "8b64aff3",
   "metadata": {},
   "outputs": [],
   "source": [
    "df.dtypes"
   ]
  },
  {
   "cell_type": "code",
   "execution_count": null,
   "id": "cd08ab26",
   "metadata": {},
   "outputs": [],
   "source": [
    "#Seperating date-month-year as derived variables"
   ]
  },
  {
   "cell_type": "code",
   "execution_count": null,
   "id": "cf462ea9",
   "metadata": {},
   "outputs": [],
   "source": [
    "#deriving week\n",
    "df['issued_d_year']=df.issue_d.dt.year\n",
    "#deriving month\n",
    "df['issued_d_month']=df.issue_d.dt.strftime('%b')\n",
    "#deriving day\n",
    "df['issue_d_day']=df.issue_d.dt.weekday\n",
    "\n",
    "df['earliest_cr_line_year']=df.issue_d.dt.year\n",
    "df['earliest_cr_line_month']=df.issue_d.dt.strftime('%b')\n",
    "df['earliest_cr_line_day']=df.issue_d.dt.weekday"
   ]
  },
  {
   "cell_type": "code",
   "execution_count": null,
   "id": "771acf24",
   "metadata": {},
   "outputs": [],
   "source": [
    "#converting date as object data type\n",
    "df['issued_d_year']=df['issued_d_year'].astype(object)\n",
    "df['issued_d_month']=df['issued_d_month'].astype(object)\n",
    "df['issue_d_day']=df['issue_d_day'].astype(object)\n",
    "df['earliest_cr_line_year']=df['earliest_cr_line_year'].astype(object)\n",
    "df['earliest_cr_line_month']=df['earliest_cr_line_month'].astype(object)\n",
    "df['earliest_cr_line_day']=df['earliest_cr_line_day'].astype(object)"
   ]
  },
  {
   "cell_type": "code",
   "execution_count": null,
   "id": "825d8157",
   "metadata": {},
   "outputs": [],
   "source": [
    "df.head()"
   ]
  },
  {
   "cell_type": "markdown",
   "id": "33d415ff",
   "metadata": {},
   "source": [
    "Adding approved loan \n",
    "\n",
    "Approved loan = (funded_amount_by+invester*100/ loan_amount)"
   ]
  },
  {
   "cell_type": "code",
   "execution_count": null,
   "id": "ede3ad54",
   "metadata": {},
   "outputs": [],
   "source": [
    "df['approved_loan_ratio']= (df.funded_amnt_inv*100)/(df.loan_amnt)"
   ]
  },
  {
   "cell_type": "code",
   "execution_count": null,
   "id": "ca979c17",
   "metadata": {},
   "outputs": [],
   "source": [
    "df['approved_loan_ratio'].head(25)"
   ]
  },
  {
   "cell_type": "code",
   "execution_count": null,
   "id": "4b5d3c95",
   "metadata": {},
   "outputs": [],
   "source": [
    "df['approved_loan_ratio']=round(df['approved_loan_ratio'],2)"
   ]
  },
  {
   "cell_type": "code",
   "execution_count": null,
   "id": "2dcfc6d6",
   "metadata": {},
   "outputs": [],
   "source": [
    "#df['approved_loan_ratio']"
   ]
  },
  {
   "cell_type": "code",
   "execution_count": null,
   "id": "2e6afee4",
   "metadata": {},
   "outputs": [],
   "source": [
    "df.dtypes"
   ]
  },
  {
   "cell_type": "markdown",
   "id": "4e200913",
   "metadata": {},
   "source": [
    "Data cleansing part is done, now lets do univariate and multivariate analysis"
   ]
  },
  {
   "cell_type": "markdown",
   "id": "3de6b31a",
   "metadata": {},
   "source": [
    "# 1.Univariate Analysis"
   ]
  },
  {
   "cell_type": "markdown",
   "id": "d98b38ae",
   "metadata": {},
   "source": [
    "Loan Amount"
   ]
  },
  {
   "cell_type": "code",
   "execution_count": null,
   "id": "f80a6f38",
   "metadata": {},
   "outputs": [],
   "source": [
    "plt.figure(figsize=(20,10))\n",
    "sns.countplot(x=df['loan_amnt'],data=df)\n",
    "plt.show()"
   ]
  },
  {
   "cell_type": "markdown",
   "id": "a4b4282b",
   "metadata": {},
   "source": [
    "Loan Status"
   ]
  },
  {
   "cell_type": "code",
   "execution_count": null,
   "id": "5b20432f",
   "metadata": {},
   "outputs": [],
   "source": [
    "sns.countplot(x=df['loan_status'])\n",
    "plt.show()"
   ]
  },
  {
   "cell_type": "markdown",
   "id": "6796bfce",
   "metadata": {},
   "source": [
    "Grade"
   ]
  },
  {
   "cell_type": "code",
   "execution_count": null,
   "id": "07207549",
   "metadata": {},
   "outputs": [],
   "source": [
    "sns.countplot(x=df['grade'],data=df)\n",
    "plt.show()"
   ]
  },
  {
   "cell_type": "markdown",
   "id": "45bc4c8e",
   "metadata": {},
   "source": [
    "Employee working experience"
   ]
  },
  {
   "cell_type": "code",
   "execution_count": null,
   "id": "6057cfb7",
   "metadata": {},
   "outputs": [],
   "source": [
    "sns.countplot(x=df['emp_length'],data=df)\n",
    "plt.xlabel('Working Experience')\n",
    "plt.show()"
   ]
  },
  {
   "cell_type": "markdown",
   "id": "e5ac7dd4",
   "metadata": {},
   "source": [
    "Funded Amount by Investor"
   ]
  },
  {
   "cell_type": "code",
   "execution_count": null,
   "id": "99d29087",
   "metadata": {},
   "outputs": [],
   "source": [
    "sns.distplot(df['funded_amnt_inv'])\n",
    "plt.show()"
   ]
  },
  {
   "cell_type": "code",
   "execution_count": null,
   "id": "03d1d156",
   "metadata": {},
   "outputs": [],
   "source": [
    "df['funded_amnt_inv'].describe()"
   ]
  },
  {
   "cell_type": "markdown",
   "id": "13e5a9c9",
   "metadata": {},
   "source": [
    "Loan amount"
   ]
  },
  {
   "cell_type": "code",
   "execution_count": null,
   "id": "4d713bdf",
   "metadata": {},
   "outputs": [],
   "source": [
    "sns.distplot(df['loan_amnt'])\n",
    "plt.show()"
   ]
  },
  {
   "cell_type": "markdown",
   "id": "40f71a39",
   "metadata": {},
   "source": [
    "Annual Income of the employee"
   ]
  },
  {
   "cell_type": "code",
   "execution_count": null,
   "id": "5ce29f9a",
   "metadata": {},
   "outputs": [],
   "source": [
    "#reviwing salary\n",
    "\n",
    "sns.boxplot(x=df['annual_inc'])\n",
    "plt.show()"
   ]
  },
  {
   "cell_type": "markdown",
   "id": "399bed67",
   "metadata": {},
   "source": [
    "Approved Loan Ratio"
   ]
  },
  {
   "cell_type": "code",
   "execution_count": null,
   "id": "6c116ce9",
   "metadata": {},
   "outputs": [],
   "source": [
    "sns.distplot(a=df['approved_loan_ratio'])\n",
    "plt.show()"
   ]
  },
  {
   "cell_type": "markdown",
   "id": "eb53756f",
   "metadata": {},
   "source": [
    "## Observations-Univariate"
   ]
  },
  {
   "cell_type": "markdown",
   "id": "c6cc292c",
   "metadata": {},
   "source": [
    "1.It is observed that the loan amount varies from 0 to 30,000\n",
    "\n",
    "2.Mean = 10,000\n",
    "\n",
    "3.Most of the loans are fully paid\n",
    "\n",
    "4.Most of the loans are grade A & B\n",
    "\n",
    "5.Human having more than 10 years experience apply loan in majority\n",
    "\n",
    "6.Funded amount by investor is right skewed, hence most of the loan amount is greater than 3.5Lakhs\n",
    "\n",
    "7.From the above plot it is visible that only 2 Humans are getting higher salary greater than 3L\n",
    "\n",
    "8.70% of people get sure loan from investers"
   ]
  },
  {
   "cell_type": "markdown",
   "id": "cdc25abe",
   "metadata": {},
   "source": [
    "## 2.Multivariate Analysis"
   ]
  },
  {
   "cell_type": "markdown",
   "id": "48c1a59a",
   "metadata": {},
   "source": [
    "Employee Exp vs Loan Status"
   ]
  },
  {
   "cell_type": "code",
   "execution_count": null,
   "id": "c8551f44",
   "metadata": {},
   "outputs": [],
   "source": [
    "plt.figure(figsize=(15,15))\n",
    "sns.countplot(x=df['emp_length'], hue=df['loan_status'], data=df)\n",
    "plt.xlabel('Employee Working Experience')\n",
    "plt.show()"
   ]
  },
  {
   "cell_type": "markdown",
   "id": "2ef60c8a",
   "metadata": {},
   "source": [
    "Loan Amount vs Funded amount by Investors"
   ]
  },
  {
   "cell_type": "code",
   "execution_count": null,
   "id": "932b1b18",
   "metadata": {},
   "outputs": [],
   "source": [
    "plt.figure(figsize=(15,15))\n",
    "sns.barplot(x=df['funded_amnt_inv'],y=df['loan_amnt'],data=df)\n",
    "plt.show()"
   ]
  },
  {
   "cell_type": "markdown",
   "id": "8c37ab9d",
   "metadata": {},
   "source": [
    "Loan Amount vs Loan Status"
   ]
  },
  {
   "cell_type": "code",
   "execution_count": null,
   "id": "f7d79ec4",
   "metadata": {},
   "outputs": [],
   "source": [
    "plt.figure(figsize=(15,15))\n",
    "sns.boxplot( y=df[\"loan_amnt\"], x=df['loan_status'] , data=df)\n",
    "plt.ylabel('Loan Amount')\n",
    "plt.show()"
   ]
  },
  {
   "cell_type": "markdown",
   "id": "fefef773",
   "metadata": {},
   "source": [
    "LoanPurpose vs LoanStatus"
   ]
  },
  {
   "cell_type": "code",
   "execution_count": null,
   "id": "4b9ebc44",
   "metadata": {},
   "outputs": [],
   "source": [
    "plt.figure(figsize=(15,15))\n",
    "sns.countplot(x=df['purpose'], hue=df['loan_status'], data=df)\n",
    "plt.title('Loan Reason')\n",
    "plt.xticks(rotation=90)\n",
    "plt.show()"
   ]
  },
  {
   "cell_type": "markdown",
   "id": "b78d4845",
   "metadata": {},
   "source": [
    "Term vs Purpose"
   ]
  },
  {
   "cell_type": "code",
   "execution_count": null,
   "id": "5d6782ea",
   "metadata": {},
   "outputs": [],
   "source": [
    "plt.figure(figsize=(15,8))\n",
    "sns.countplot( x=df['term'], hue=df['purpose'], data=df)\n",
    "plt.xlabel('Loan Term in Months')\n",
    "plt.show()"
   ]
  },
  {
   "cell_type": "markdown",
   "id": "c543840b",
   "metadata": {},
   "source": [
    "Term vs Loan Amount"
   ]
  },
  {
   "cell_type": "code",
   "execution_count": null,
   "id": "9458caf6",
   "metadata": {},
   "outputs": [],
   "source": [
    "plt.figure(figsize=(15,15))\n",
    "sns.barplot(x=df['term'],y=df['loan_amnt'],hue=df['loan_status'])\n",
    "plt.show()"
   ]
  },
  {
   "cell_type": "markdown",
   "id": "5bd241b2",
   "metadata": {},
   "source": [
    "Term vs Interest"
   ]
  },
  {
   "cell_type": "code",
   "execution_count": null,
   "id": "d2d53cf4",
   "metadata": {},
   "outputs": [],
   "source": [
    "plt.figure(figsize=(15,15))\n",
    "sns.barplot(x=df['term'],y=df['int_rate'],hue=df['loan_status'])"
   ]
  },
  {
   "cell_type": "markdown",
   "id": "1054ae85",
   "metadata": {},
   "source": [
    "Interest Rate vs Annual Income"
   ]
  },
  {
   "cell_type": "code",
   "execution_count": null,
   "id": "66a99ddb",
   "metadata": {},
   "outputs": [],
   "source": [
    "plt.figure(figsize=(15,15))\n",
    "sns.barplot(x=df['int_rate'],y=df['annual_inc'])"
   ]
  },
  {
   "cell_type": "markdown",
   "id": "fd13290b",
   "metadata": {},
   "source": [
    "Loan Amount vs Purpose"
   ]
  },
  {
   "cell_type": "code",
   "execution_count": null,
   "id": "79743ae9",
   "metadata": {},
   "outputs": [],
   "source": [
    "plt.figure(figsize=(10,10))\n",
    "sns.barplot(x=df['loan_amnt'],y=df['purpose'],hue=df['loan_status'])"
   ]
  },
  {
   "cell_type": "markdown",
   "id": "9f6556b5",
   "metadata": {},
   "source": [
    "Grade vs Loan Amount"
   ]
  },
  {
   "cell_type": "code",
   "execution_count": null,
   "id": "48de027a",
   "metadata": {},
   "outputs": [],
   "source": [
    "plt.figure(figsize=(15,15))\n",
    "sns.barplot(x=df['grade'],y=df['loan_amnt'],hue=df['loan_status'])\n",
    "plt.show()"
   ]
  },
  {
   "cell_type": "markdown",
   "id": "0c906884",
   "metadata": {},
   "source": [
    "Grade vs Installment Rate"
   ]
  },
  {
   "cell_type": "code",
   "execution_count": null,
   "id": "7b9123f6",
   "metadata": {},
   "outputs": [],
   "source": [
    "plt.figure(figsize=(15,15))\n",
    "sns.barplot(x=df['grade'],y=df['int_rate'])"
   ]
  },
  {
   "cell_type": "code",
   "execution_count": null,
   "id": "ff7c2c5d",
   "metadata": {},
   "outputs": [],
   "source": [
    "plt.figure(figsize=(15,15))\n",
    "sns.barplot(x=df['grade'], y=df['int_rate'], hue ='loan_status',data =df)\n",
    "plt.show()"
   ]
  },
  {
   "cell_type": "markdown",
   "id": "6f28c3af",
   "metadata": {},
   "source": [
    "Loan Amount vs HouseOwnerShip"
   ]
  },
  {
   "cell_type": "code",
   "execution_count": null,
   "id": "dbd6f4dd",
   "metadata": {},
   "outputs": [],
   "source": [
    "plt.figure(figsize=(15,15))\n",
    "sns.barplot(x=df['home_ownership'], y=df['loan_amnt'],hue=df['loan_status'])\n",
    "plt.show()"
   ]
  },
  {
   "cell_type": "markdown",
   "id": "20416bae",
   "metadata": {},
   "source": [
    "HouseOwnerShip vs AnnualIncome"
   ]
  },
  {
   "cell_type": "code",
   "execution_count": null,
   "id": "d34eb058",
   "metadata": {},
   "outputs": [],
   "source": [
    "plt.figure(figsize=(15,15))\n",
    "sns.barplot(x=df['home_ownership'],y=df['annual_inc'])\n",
    "plt.show()"
   ]
  },
  {
   "cell_type": "markdown",
   "id": "97044be5",
   "metadata": {},
   "source": [
    "HouseOwnerShip vs Approved loan "
   ]
  },
  {
   "cell_type": "code",
   "execution_count": null,
   "id": "c0601dca",
   "metadata": {},
   "outputs": [],
   "source": [
    "plt.figure(figsize=(15,15))\n",
    "sns.boxplot(x=df['home_ownership'],y=df['approved_loan_ratio'])\n",
    "plt.show()"
   ]
  },
  {
   "cell_type": "markdown",
   "id": "c116d99b",
   "metadata": {},
   "source": [
    "LoanAmount vs TotalPayment"
   ]
  },
  {
   "cell_type": "code",
   "execution_count": null,
   "id": "9ec16383",
   "metadata": {},
   "outputs": [],
   "source": [
    "plt.figure(figsize=(15,15))\n",
    "sns.lineplot(x=df['loan_amnt'], y=df['total_pymnt'],data =df)\n",
    "plt.show()"
   ]
  },
  {
   "cell_type": "markdown",
   "id": "f8e38f98",
   "metadata": {},
   "source": [
    "LoanAmount vs IssuedMonth"
   ]
  },
  {
   "cell_type": "code",
   "execution_count": null,
   "id": "3f2fb581",
   "metadata": {},
   "outputs": [],
   "source": [
    "plt.figure(figsize=(15,15))\n",
    "sns.barplot(x=df['issued_d_month'],y=df['loan_amnt'],hue=df['loan_status'])\n",
    "plt.show()"
   ]
  },
  {
   "cell_type": "markdown",
   "id": "8c5a5ec2",
   "metadata": {},
   "source": [
    "IssuedYear vs LoanAmount"
   ]
  },
  {
   "cell_type": "code",
   "execution_count": null,
   "id": "c87a2145",
   "metadata": {},
   "outputs": [],
   "source": [
    "plt.figure(figsize=(15,15))\n",
    "sns.barplot(x=df['issued_d_year'],y=df['loan_amnt'],hue=df['loan_status'])\n",
    "plt.show()"
   ]
  },
  {
   "cell_type": "markdown",
   "id": "e5ca7f62",
   "metadata": {},
   "source": [
    "## Observations-Multivariate"
   ]
  },
  {
   "cell_type": "markdown",
   "id": "ef0c782b",
   "metadata": {},
   "source": [
    "1.Human's having experince of 10 paid their loan sucessfully when comapred with others,where as 8,9 are not paying theri loan well\n",
    "\n",
    "2.From the above plot it is observed that mean, 25% and 75% Loan amount of Fully paid and charged off is similiar\n",
    "\n",
    "3.Major human takes loan for the dept consolidation and taken loan is fully paid\n",
    "\n",
    "4.Human choosing 36 Months tenure have high chance of paying correctly\n",
    "\n",
    "5.People having Good annual income paying better Installments\n",
    "\n",
    "6.Maximum stauts of the loan were Fully paid \n",
    "\n",
    "7.People having Home ownership as 'MORTAGE' have income of about 60K\n",
    "\n",
    "8.F grade Loan applier having loan amount of 15k-20k\n",
    "\n",
    "9.G grade Loan applier having interest rate above 20%\n",
    "\n",
    "10.Its seems that the default rate is high in 60 months tenure\n",
    "\n",
    "11.The Lower grade are higher chance of default than the Higher grade one\n",
    "\n",
    "12.The lowe grade (E-G) are getting loans for higher interest rate which might cause default\n",
    "\n",
    "13.Human who took loan for small business seems to be default more \n",
    "\n",
    "14.Human's in mortage home ownership has high default rate"
   ]
  },
  {
   "cell_type": "code",
   "execution_count": null,
   "id": "0880243a",
   "metadata": {},
   "outputs": [],
   "source": []
  }
 ],
 "metadata": {
  "kernelspec": {
   "display_name": "Python 3 (ipykernel)",
   "language": "python",
   "name": "python3"
  },
  "language_info": {
   "codemirror_mode": {
    "name": "ipython",
    "version": 3
   },
   "file_extension": ".py",
   "mimetype": "text/x-python",
   "name": "python",
   "nbconvert_exporter": "python",
   "pygments_lexer": "ipython3",
   "version": "3.9.7"
  }
 },
 "nbformat": 4,
 "nbformat_minor": 5
}
